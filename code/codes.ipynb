{
 "cells": [
  {
   "cell_type": "code",
   "execution_count": null,
   "metadata": {},
   "outputs": [],
   "source": [
    "import plotly.express as px\n",
    "\n",
    "fig = px.histogram(data, x=\"PesoGB\")\n",
    "# Personalizar el gráfico (opcional)\n",
    "fig.update_layout(\n",
    "    title=\"Histograma\",\n",
    "    xaxis_title=\"Cantidad\",\n",
    "    yaxis_title=\"Conteo\"\n",
    ")\n",
    "\n",
    "# Mostrar el gráfico\n",
    "fig.show()"
   ]
  }
 ],
 "metadata": {
  "language_info": {
   "name": "python"
  }
 },
 "nbformat": 4,
 "nbformat_minor": 2
}
